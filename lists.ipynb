{
 "cells": [
  {
   "cell_type": "markdown",
   "metadata": {},
   "source": [
    "## 1. Python lists are one of the most versatile data types that allow us to work with multiple elements at once.\n",
    "## 2. lists are a mutable type, i.e. it is possible to change their content. "
   ]
  },
  {
   "cell_type": "code",
   "execution_count": 1,
   "metadata": {},
   "outputs": [],
   "source": [
    "#create list\n",
    "my_list = [10,20,30]"
   ]
  },
  {
   "cell_type": "code",
   "execution_count": 2,
   "metadata": {},
   "outputs": [
    {
     "data": {
      "text/plain": [
       "[10, 20, 30]"
      ]
     },
     "execution_count": 2,
     "metadata": {},
     "output_type": "execute_result"
    }
   ],
   "source": [
    "#print list\n",
    "my_list"
   ]
  },
  {
   "cell_type": "code",
   "execution_count": 3,
   "metadata": {},
   "outputs": [
    {
     "data": {
      "text/plain": [
       "[10, 20, 'satish', 'ganesh']"
      ]
     },
     "execution_count": 3,
     "metadata": {},
     "output_type": "execute_result"
    }
   ],
   "source": [
    "# lists can have mixed data types like integer, string or float values\n",
    "my_list= [10,20,\"satish\",\"ganesh\"]\n",
    "my_list"
   ]
  },
  {
   "cell_type": "code",
   "execution_count": 4,
   "metadata": {},
   "outputs": [
    {
     "data": {
      "text/plain": [
       "[10, 20, 'satish', 'ganesh', [0, 1, 2]]"
      ]
     },
     "execution_count": 4,
     "metadata": {},
     "output_type": "execute_result"
    }
   ],
   "source": [
    "# a list can also have a nested list\n",
    "my_list= [10,20,\"satish\",\"ganesh\",[0,1,2]]\n",
    "my_list"
   ]
  },
  {
   "cell_type": "code",
   "execution_count": 5,
   "metadata": {},
   "outputs": [
    {
     "name": "stdout",
     "output_type": "stream",
     "text": [
      "10\n",
      "20\n",
      "satish\n"
     ]
    }
   ],
   "source": [
    "#Access List Elements\n",
    "#index starts with 0\n",
    "print(my_list[0]) #prints 10\n",
    "print(my_list[1])  #prints 20\n",
    "print(my_list[2]) #prints \"satish\""
   ]
  },
  {
   "cell_type": "code",
   "execution_count": 6,
   "metadata": {},
   "outputs": [
    {
     "name": "stdout",
     "output_type": "stream",
     "text": [
      "[0, 1, 2]\n",
      "ganesh\n"
     ]
    },
    {
     "ename": "IndexError",
     "evalue": "list index out of range",
     "output_type": "error",
     "traceback": [
      "\u001b[0;31m---------------------------------------------------------------------------\u001b[0m",
      "\u001b[0;31mIndexError\u001b[0m                                Traceback (most recent call last)",
      "\u001b[0;32m/tmp/ipykernel_1114457/3986534490.py\u001b[0m in \u001b[0;36m<module>\u001b[0;34m\u001b[0m\n\u001b[1;32m      4\u001b[0m \u001b[0mprint\u001b[0m\u001b[0;34m(\u001b[0m\u001b[0mmy_list\u001b[0m\u001b[0;34m[\u001b[0m\u001b[0;34m-\u001b[0m\u001b[0;36m1\u001b[0m\u001b[0;34m]\u001b[0m\u001b[0;34m)\u001b[0m \u001b[0;31m#prints last element [0,1,2]\u001b[0m\u001b[0;34m\u001b[0m\u001b[0;34m\u001b[0m\u001b[0m\n\u001b[1;32m      5\u001b[0m \u001b[0mprint\u001b[0m\u001b[0;34m(\u001b[0m\u001b[0mmy_list\u001b[0m\u001b[0;34m[\u001b[0m\u001b[0;34m-\u001b[0m\u001b[0;36m2\u001b[0m\u001b[0;34m]\u001b[0m\u001b[0;34m)\u001b[0m \u001b[0;31m#prints second last element Ganesh\u001b[0m\u001b[0;34m\u001b[0m\u001b[0;34m\u001b[0m\u001b[0m\n\u001b[0;32m----> 6\u001b[0;31m \u001b[0mprint\u001b[0m\u001b[0;34m(\u001b[0m\u001b[0mmy_list\u001b[0m\u001b[0;34m[\u001b[0m\u001b[0;34m-\u001b[0m\u001b[0;36m10\u001b[0m\u001b[0;34m]\u001b[0m\u001b[0;34m)\u001b[0m \u001b[0;31m# Throws error (list index out of range)\u001b[0m\u001b[0;34m\u001b[0m\u001b[0;34m\u001b[0m\u001b[0m\n\u001b[0m",
      "\u001b[0;31mIndexError\u001b[0m: list index out of range"
     ]
    }
   ],
   "source": [
    "#Negative indexing\n",
    "#Python allows negative indexing for its sequences. \n",
    "#The index of -1 refers to the last item, -2 to the second last item and so on.\n",
    "print(my_list[-1]) #prints last element [0,1,2]\n",
    "print(my_list[-2]) #prints second last element Ganesh\n",
    "print(my_list[-10]) # Throws error (list index out of range)"
   ]
  },
  {
   "cell_type": "markdown",
   "metadata": {},
   "source": [
    "## List Slicing in Python\n",
    "####  [ Initial : End : IndexJump ]"
   ]
  },
  {
   "cell_type": "code",
   "execution_count": 7,
   "metadata": {},
   "outputs": [
    {
     "name": "stdout",
     "output_type": "stream",
     "text": [
      "[20, 30, 40, 50]\n"
     ]
    }
   ],
   "source": [
    "my_list = [10,20,30,40,50,60,70,80,90,100]\n",
    "print(my_list[1:5])  # starts from index 1 and goes upto index 4(5-1)(Please note index of lists starts with 0)"
   ]
  },
  {
   "cell_type": "code",
   "execution_count": 8,
   "metadata": {},
   "outputs": [
    {
     "name": "stdout",
     "output_type": "stream",
     "text": [
      "[10, 20, 30, 40, 50, 60, 70, 80, 90, 100]\n",
      "[100, 90, 80, 70, 60, 50, 40, 30, 20, 10]\n"
     ]
    }
   ],
   "source": [
    "#prints the complete list\n",
    "print(my_list[:])\n",
    "\n",
    "#prints list in reverse order\n",
    "print(my_list[::-1]) #-1 indicates start from end with indexjump of -1"
   ]
  },
  {
   "cell_type": "code",
   "execution_count": 9,
   "metadata": {},
   "outputs": [
    {
     "name": "stdout",
     "output_type": "stream",
     "text": [
      "[40, 50, 60, 70, 80, 90, 100]\n",
      "[10, 20, 30]\n"
     ]
    }
   ],
   "source": [
    "# elements from index 3 to end\n",
    "print(my_list[3:])\n",
    "\n",
    "# elements from index start to 2\n",
    "print(my_list[:3])"
   ]
  },
  {
   "cell_type": "markdown",
   "metadata": {},
   "source": [
    "## Lists are mutable, meaning their elements can be changed\n"
   ]
  },
  {
   "cell_type": "code",
   "execution_count": 10,
   "metadata": {},
   "outputs": [
    {
     "name": "stdout",
     "output_type": "stream",
     "text": [
      "[100, 20, 30, 40, 50, 60, 70, 80, 90, 100]\n"
     ]
    }
   ],
   "source": [
    "my_list[0] = 100\n",
    "print(my_list)  # Notice first element is changed"
   ]
  },
  {
   "cell_type": "markdown",
   "metadata": {},
   "source": [
    "## Python List Methods\n"
   ]
  },
  {
   "cell_type": "code",
   "execution_count": 11,
   "metadata": {},
   "outputs": [
    {
     "name": "stdout",
     "output_type": "stream",
     "text": [
      "['php', 'python', 'Java']\n"
     ]
    }
   ],
   "source": [
    "#The append() method adds an item to the end of the list.\n",
    "my_list = [\"php\",\"python\"]\n",
    "my_list.append(\"Java\")  # appends java at the end of the list\n",
    "print(my_list)"
   ]
  },
  {
   "cell_type": "code",
   "execution_count": 12,
   "metadata": {},
   "outputs": [
    {
     "name": "stdout",
     "output_type": "stream",
     "text": [
      "['php', 'python', 'Java', 'C', 'C++']\n"
     ]
    }
   ],
   "source": [
    "## The extend() method adds all the elements of an iterable (list, tuple, string etc.) to the end of the list.\n",
    "my_list.extend([\"C\",\"C++\"]) \n",
    "print(my_list)"
   ]
  },
  {
   "cell_type": "code",
   "execution_count": 13,
   "metadata": {},
   "outputs": [
    {
     "name": "stdout",
     "output_type": "stream",
     "text": [
      "['php', 'python', 'Java', 'GO', 'C', 'C++']\n"
     ]
    }
   ],
   "source": [
    "## The insert() method inserts an element to the list at the specified index.\n",
    "my_list.insert(3, 'GO')  # insert 'Go' at index 3\n",
    "print(my_list)"
   ]
  },
  {
   "cell_type": "code",
   "execution_count": 14,
   "metadata": {},
   "outputs": [
    {
     "name": "stdout",
     "output_type": "stream",
     "text": [
      "['php', 'python', 'GO', 'C', 'C++']\n"
     ]
    }
   ],
   "source": [
    "## The remove() method is used to remove the first matching element (which is passed as an argument) from the list.\n",
    "my_list.remove(\"Java\") #remove Java\n",
    "print(my_list)"
   ]
  },
  {
   "cell_type": "code",
   "execution_count": 15,
   "metadata": {},
   "outputs": [
    {
     "name": "stdout",
     "output_type": "stream",
     "text": [
      "GO\n"
     ]
    }
   ],
   "source": [
    "## The pop() method is used to remove the item at the given index from the list and returns the removed item.\n",
    "## if no index is passed, by default the last element is popped and returned\n",
    "# remove the element at index 2\n",
    "removed_element = my_list.pop(2)\n",
    "print(removed_element) #popped element is returned back"
   ]
  },
  {
   "cell_type": "code",
   "execution_count": 17,
   "metadata": {},
   "outputs": [
    {
     "name": "stdout",
     "output_type": "stream",
     "text": [
      "[]\n"
     ]
    }
   ],
   "source": [
    "#The clear() method is used to remove all items from the list.\n",
    "my_list.clear()\n",
    "print(my_list) #returns blank list"
   ]
  },
  {
   "cell_type": "code",
   "execution_count": 18,
   "metadata": {},
   "outputs": [
    {
     "data": {
      "text/plain": [
       "9"
      ]
     },
     "execution_count": 18,
     "metadata": {},
     "output_type": "execute_result"
    }
   ],
   "source": [
    "## The index() method returns the index of the specified element in the list.\n",
    "my_list = [10,20,30,40,50,60,70,80,90,100]\n",
    "my_list.index(100) #prints 9"
   ]
  },
  {
   "cell_type": "code",
   "execution_count": 22,
   "metadata": {},
   "outputs": [
    {
     "name": "stdout",
     "output_type": "stream",
     "text": [
      "2\n",
      "1\n",
      "3\n"
     ]
    }
   ],
   "source": [
    "## The count() method returns the number of times the specified element appears in the list.\n",
    "\n",
    "my_list = [10,10,20,40,70,60,70,80,70,100]\n",
    "print(my_list.count(10)) #prints 2\n",
    "print(my_list.count(20)) #prints 1\n",
    "print(my_list.count(70)) #prints 3"
   ]
  },
  {
   "cell_type": "code",
   "execution_count": 25,
   "metadata": {},
   "outputs": [
    {
     "name": "stdout",
     "output_type": "stream",
     "text": [
      "[100, 70, 80, 70, 60, 70, 40, 20, 10, 10]\n"
     ]
    }
   ],
   "source": [
    "#reverse the list\n",
    "my_list.reverse() \n",
    "print(my_list)"
   ]
  },
  {
   "cell_type": "code",
   "execution_count": 27,
   "metadata": {},
   "outputs": [
    {
     "name": "stdout",
     "output_type": "stream",
     "text": [
      "[100, 70, 80, 70, 60, 70, 40, 20, 10, 10]\n"
     ]
    }
   ],
   "source": [
    "## The copy() method returns a shallow copy of the list.\n",
    "my_list2 = my_list.copy()\n",
    "print(my_list2) #copies the list to my_list2"
   ]
  },
  {
   "cell_type": "markdown",
   "metadata": {},
   "source": [
    "## Iterating Through a List\n"
   ]
  },
  {
   "cell_type": "code",
   "execution_count": 29,
   "metadata": {},
   "outputs": [
    {
     "name": "stdout",
     "output_type": "stream",
     "text": [
      "100\n",
      "70\n",
      "80\n",
      "70\n",
      "60\n",
      "70\n",
      "40\n",
      "20\n",
      "10\n",
      "10\n"
     ]
    }
   ],
   "source": [
    "for num in my_list:\n",
    "    print(num) #prints elements of lists one by one"
   ]
  },
  {
   "cell_type": "markdown",
   "metadata": {},
   "source": [
    "## Commonly asked list questions "
   ]
  },
  {
   "cell_type": "code",
   "execution_count": 30,
   "metadata": {},
   "outputs": [
    {
     "name": "stdout",
     "output_type": "stream",
     "text": [
      "[1, 2, 3, 4, 5, 6, 7, 8, 9, 10]\n"
     ]
    }
   ],
   "source": [
    "##1 How we insert multiple elements at the same time at the end of a list ?\n",
    "a = [1, 2, 3, 4, 5] \n",
    "\n",
    "b = [6, 7, 8, 9,10]\n",
    "#Insert the element so that a = [1, 2, 3, 4, 5, 6, 7, 8, 9, 10]\n",
    "\n",
    "a.extend(b)  ## guess why append wasn't used.\n",
    "\n",
    "print(a)"
   ]
  },
  {
   "cell_type": "code",
   "execution_count": 31,
   "metadata": {},
   "outputs": [
    {
     "name": "stdout",
     "output_type": "stream",
     "text": [
      "['SAS', 'R', 'PYTHON', 'SPARK']\n"
     ]
    }
   ],
   "source": [
    "##2. Remove SPSS from input_list=['SAS', 'R', 'PYTHON', 'SPSS'] \n",
    "## add 'SPARK' in its place.\n",
    "\n",
    "#code\n",
    "input_list=['SAS', 'R', 'PYTHON', 'SPSS'] \n",
    "input_list.pop() ##it removes SPSS\n",
    "input_list.append(\"SPARK\")\n",
    "print(input_list)"
   ]
  },
  {
   "cell_type": "code",
   "execution_count": 32,
   "metadata": {},
   "outputs": [
    {
     "name": "stdout",
     "output_type": "stream",
     "text": [
      "['I love Data Science ', ' Python']\n"
     ]
    }
   ],
   "source": [
    "##3 string to list conversion\n",
    "## Convert a string input_str = 'I love Data Science & Python' to a list by splitting it on ‘&’. The sample output for this string will be:\n",
    "input_str = \"I love Data Science & Python\"\n",
    "output_list = input_str.split('&') \n",
    "print(output_list)"
   ]
  },
  {
   "cell_type": "code",
   "execution_count": null,
   "metadata": {},
   "outputs": [],
   "source": []
  }
 ],
 "metadata": {
  "kernelspec": {
   "display_name": "Python 3 (ipykernel)",
   "language": "python",
   "name": "python3"
  },
  "language_info": {
   "codemirror_mode": {
    "name": "ipython",
    "version": 3
   },
   "file_extension": ".py",
   "mimetype": "text/x-python",
   "name": "python",
   "nbconvert_exporter": "python",
   "pygments_lexer": "ipython3",
   "version": "3.8.10"
  }
 },
 "nbformat": 4,
 "nbformat_minor": 4
}
